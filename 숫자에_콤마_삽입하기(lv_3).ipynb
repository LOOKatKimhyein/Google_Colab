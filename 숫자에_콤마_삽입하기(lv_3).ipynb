{
  "nbformat": 4,
  "nbformat_minor": 0,
  "metadata": {
    "colab": {
      "name": "숫자에 콤마 삽입하기(lv.3).ipynb",
      "provenance": [],
      "collapsed_sections": [],
      "authorship_tag": "ABX9TyPvfUmnEJOZy/CP2OmD6d3g",
      "include_colab_link": true
    },
    "kernelspec": {
      "name": "python3",
      "display_name": "Python 3"
    }
  },
  "cells": [
    {
      "cell_type": "markdown",
      "metadata": {
        "id": "view-in-github",
        "colab_type": "text"
      },
      "source": [
        "<a href=\"https://colab.research.google.com/github/LOOKatKimhyein/Google_Colab/blob/master/%EC%88%AB%EC%9E%90%EC%97%90_%EC%BD%A4%EB%A7%88_%EC%82%BD%EC%9E%85%ED%95%98%EA%B8%B0(lv_3).ipynb\" target=\"_parent\"><img src=\"https://colab.research.google.com/assets/colab-badge.svg\" alt=\"Open In Colab\"/></a>"
      ]
    },
    {
      "cell_type": "markdown",
      "metadata": {
        "id": "qq6BxMlNVBS2",
        "colab_type": "text"
      },
      "source": [
        "숫자 형태의 문자열을 콤마가 포함된 금액 표기식 문자열로 바꾸어주는 프로그램을 작성하시오.\n",
        "\n",
        "※ 단, 프로그래밍 언어에서 지원하는 금액변환 라이브러리는 사용하지 말것\n",
        "\n",
        "예)\n",
        "\n",
        "|숫자\t | 금액|\n",
        "|--------|------|\n",
        "1000\t| 1,000\n",
        "20000000\t| 20,000,000\n",
        "-3245.24\t| -3,245.24\n",
        "\n"
      ]
    },
    {
      "cell_type": "markdown",
      "metadata": {
        "id": "XLeMW_1ZXC3D",
        "colab_type": "text"
      },
      "source": [
        "[풀이 방법]  \n",
        "\n",
        "뒤에서부터 3자리씩 끊어서 ,를 삽입한다.\n",
        "단 ,가 추가될 때 마다 3+loop 횟수로 index값이 변경된다"
      ]
    },
    {
      "cell_type": "code",
      "metadata": {
        "id": "iy_cn32oVH6i",
        "colab_type": "code",
        "colab": {}
      },
      "source": [
        "def com(x):\n",
        "  str_x = str(x)\n",
        "  cnt= 0\n",
        "  for i in range(3,len(str_x),3):\n",
        "    str_x = str_x[0:-(i+cnt)]+','+str_x[-(i+cnt):]\n",
        "    cnt +=1\n",
        "  return str_x"
      ],
      "execution_count": 0,
      "outputs": []
    },
    {
      "cell_type": "code",
      "metadata": {
        "id": "6GjDnqQKWqiz",
        "colab_type": "code",
        "outputId": "c4c613bd-4ddc-46cf-9752-077223021d92",
        "colab": {
          "base_uri": "https://localhost:8080/",
          "height": 35
        }
      },
      "source": [
        "com(1000)"
      ],
      "execution_count": 0,
      "outputs": [
        {
          "output_type": "execute_result",
          "data": {
            "text/plain": [
              "'1,000'"
            ]
          },
          "metadata": {
            "tags": []
          },
          "execution_count": 6
        }
      ]
    },
    {
      "cell_type": "code",
      "metadata": {
        "id": "YCLl11DvWsaN",
        "colab_type": "code",
        "outputId": "a45fb137-4950-4d10-d50e-dc7b41da7709",
        "colab": {
          "base_uri": "https://localhost:8080/",
          "height": 35
        }
      },
      "source": [
        "com(1266542358200)"
      ],
      "execution_count": 0,
      "outputs": [
        {
          "output_type": "execute_result",
          "data": {
            "text/plain": [
              "'1,266,542,358,200'"
            ]
          },
          "metadata": {
            "tags": []
          },
          "execution_count": 7
        }
      ]
    },
    {
      "cell_type": "code",
      "metadata": {
        "id": "rHkPi8M2W-Vu",
        "colab_type": "code",
        "outputId": "b4933236-0583-49dc-98b1-62b92a3f080c",
        "colab": {
          "base_uri": "https://localhost:8080/",
          "height": 35
        }
      },
      "source": [
        "com(100)"
      ],
      "execution_count": 0,
      "outputs": [
        {
          "output_type": "execute_result",
          "data": {
            "text/plain": [
              "'100'"
            ]
          },
          "metadata": {
            "tags": []
          },
          "execution_count": 8
        }
      ]
    }
  ]
}