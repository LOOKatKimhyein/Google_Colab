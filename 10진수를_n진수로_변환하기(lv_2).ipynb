{
  "nbformat": 4,
  "nbformat_minor": 0,
  "metadata": {
    "colab": {
      "name": "10진수를 n진수로 변환하기(lv.2).ipynb",
      "provenance": [],
      "collapsed_sections": [],
      "authorship_tag": "ABX9TyMPyQzLg6y2plyVLBTN1WSa",
      "include_colab_link": true
    },
    "kernelspec": {
      "name": "python3",
      "display_name": "Python 3"
    }
  },
  "cells": [
    {
      "cell_type": "markdown",
      "metadata": {
        "id": "view-in-github",
        "colab_type": "text"
      },
      "source": [
        "<a href=\"https://colab.research.google.com/github/LOOKatKimhyein/Google_Colab/blob/master/10%EC%A7%84%EC%88%98%EB%A5%BC_n%EC%A7%84%EC%88%98%EB%A1%9C_%EB%B3%80%ED%99%98%ED%95%98%EA%B8%B0(lv_2).ipynb\" target=\"_parent\"><img src=\"https://colab.research.google.com/assets/colab-badge.svg\" alt=\"Open In Colab\"/></a>"
      ]
    },
    {
      "cell_type": "code",
      "metadata": {
        "id": "j8EOz3CZo1KV",
        "colab_type": "code",
        "colab": {}
      },
      "source": [
        "import copy"
      ],
      "execution_count": 0,
      "outputs": []
    },
    {
      "cell_type": "markdown",
      "metadata": {
        "id": "nfNoD-r-o4gC",
        "colab_type": "text"
      },
      "source": [
        "# 10진수를 n진수로 변환하기(lv.2)\n",
        "위 그림을 참조하여 라이브러리를 사용하지 말고 10진수를 n진수로 변환하는 프로그램을 작성하시오.. (단, n의 범위는 2 <= n <= 16)\n",
        "\n",
        "예)\n",
        "\n",
        "- 2진수로 변환 : 23310 --> 111010012\n",
        "- 8진수로 변환 : 23310 --> 3518\n",
        "- 16진수로 변환 : 23310 --> E916"
      ]
    },
    {
      "cell_type": "code",
      "metadata": {
        "id": "8dGfOyWhtkrQ",
        "colab_type": "code",
        "colab": {}
      },
      "source": [
        "def solution(num,n):\n",
        "  out_num = []\n",
        "  new_num = copy.copy(num)\n",
        "  alter_num = '0123456789ABCDEF'  #10진수 이상일경우를 위해\n",
        "  while new_num!=0:\n",
        "    out_num.append(alter_num[new_num%n])\n",
        "    new_num = new_num//n\n",
        "  return \"\".join(out_num[::-1])\n"
      ],
      "execution_count": 0,
      "outputs": []
    },
    {
      "cell_type": "code",
      "metadata": {
        "id": "rkDOFPpguKSc",
        "colab_type": "code",
        "colab": {
          "base_uri": "https://localhost:8080/",
          "height": 35
        },
        "outputId": "30554d16-3d9a-42fb-a875-411f883f29e0"
      },
      "source": [
        "solution(233,16)"
      ],
      "execution_count": 50,
      "outputs": [
        {
          "output_type": "execute_result",
          "data": {
            "text/plain": [
              "'E9'"
            ]
          },
          "metadata": {
            "tags": []
          },
          "execution_count": 50
        }
      ]
    },
    {
      "cell_type": "code",
      "metadata": {
        "id": "jF7bPQxDuOnO",
        "colab_type": "code",
        "colab": {
          "base_uri": "https://localhost:8080/",
          "height": 35
        },
        "outputId": "9c4d17d7-3d91-406e-e1de-003dfdc38bce"
      },
      "source": [
        "solution(233,8)"
      ],
      "execution_count": 51,
      "outputs": [
        {
          "output_type": "execute_result",
          "data": {
            "text/plain": [
              "'351'"
            ]
          },
          "metadata": {
            "tags": []
          },
          "execution_count": 51
        }
      ]
    }
  ]
}