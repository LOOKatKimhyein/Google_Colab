{
  "nbformat": 4,
  "nbformat_minor": 0,
  "metadata": {
    "colab": {
      "name": "Every Other Digit(lv.2).ipynb",
      "provenance": [],
      "collapsed_sections": [],
      "authorship_tag": "ABX9TyN5jBDnvATpfAhb8Ehg0ui9",
      "include_colab_link": true
    },
    "kernelspec": {
      "name": "python3",
      "display_name": "Python 3"
    }
  },
  "cells": [
    {
      "cell_type": "markdown",
      "metadata": {
        "id": "view-in-github",
        "colab_type": "text"
      },
      "source": [
        "<a href=\"https://colab.research.google.com/github/LOOKatKimhyein/Google_Colab/blob/master/Every_Other_Digit(lv_2).ipynb\" target=\"_parent\"><img src=\"https://colab.research.google.com/assets/colab-badge.svg\" alt=\"Open In Colab\"/></a>"
      ]
    },
    {
      "cell_type": "code",
      "metadata": {
        "id": "g5OHQ1pfheSs",
        "colab_type": "code",
        "colab": {}
      },
      "source": [
        "from copy import copy"
      ],
      "execution_count": 4,
      "outputs": []
    },
    {
      "cell_type": "markdown",
      "metadata": {
        "id": "_YkctPBPhlBX",
        "colab_type": "text"
      },
      "source": [
        "모든 짝수번째 숫자를 * 로 치환하시오.  \n",
        "(홀수번째 숫자,또는 짝수번째 문자를 치환하면 안됩니다.) \n"
      ]
    },
    {
      "cell_type": "markdown",
      "metadata": {
        "id": "KL1ewymmingM",
        "colab_type": "text"
      },
      "source": [
        "- 문자인지 구별 : isalpha()\n",
        "- 숫자인지 구별 : isdigit()\n",
        "- string에서 문자 치환 : str.replace()"
      ]
    },
    {
      "cell_type": "code",
      "metadata": {
        "id": "ATFDwn_8hn17",
        "colab_type": "code",
        "colab": {}
      },
      "source": [
        "word = 'a1b2cde3~g45hi6' "
      ],
      "execution_count": 5,
      "outputs": []
    },
    {
      "cell_type": "code",
      "metadata": {
        "id": "4FAUREh3hrZl",
        "colab_type": "code",
        "colab": {}
      },
      "source": [
        "def solution(word):\n",
        "  new = copy(word)\n",
        "  for i in range(len(word)):\n",
        "    if (i+1)%2 == 0 and word[i].isdigit():\n",
        "      new = new.replace(word[i], '*')\n",
        "  return new"
      ],
      "execution_count": 9,
      "outputs": []
    },
    {
      "cell_type": "code",
      "metadata": {
        "id": "1olKcT0ihrX7",
        "colab_type": "code",
        "colab": {
          "base_uri": "https://localhost:8080/",
          "height": 35
        },
        "outputId": "114661c6-3865-4979-b9c0-26cd7f8a50f5"
      },
      "source": [
        "solution('a1b2cde3~g45hi6' )"
      ],
      "execution_count": 10,
      "outputs": [
        {
          "output_type": "execute_result",
          "data": {
            "application/vnd.google.colaboratory.intrinsic": {
              "type": "string"
            },
            "text/plain": [
              "'a*b*cde*~g4*hi6'"
            ]
          },
          "metadata": {
            "tags": []
          },
          "execution_count": 10
        }
      ]
    },
    {
      "cell_type": "markdown",
      "metadata": {
        "id": "T4j5tCGyi03x",
        "colab_type": "text"
      },
      "source": [
        ""
      ]
    },
    {
      "cell_type": "markdown",
      "metadata": {
        "id": "PWYHADMDig53",
        "colab_type": "text"
      },
      "source": [
        "**one row 도전!!**"
      ]
    },
    {
      "cell_type": "code",
      "metadata": {
        "id": "YoeVGO13iItD",
        "colab_type": "code",
        "colab": {}
      },
      "source": [
        "def solution1(word):\n",
        "  new = copy(word)\n",
        "  [new.replace(word[i], '*') for i in range(len(word)) if (i+1)%2 == 0 and word[i].isdigit()]\n",
        "  return new"
      ],
      "execution_count": 15,
      "outputs": []
    },
    {
      "cell_type": "code",
      "metadata": {
        "id": "l_SK-eCqiUaU",
        "colab_type": "code",
        "colab": {
          "base_uri": "https://localhost:8080/",
          "height": 35
        },
        "outputId": "e6cc55ab-7f3d-47ee-a293-56f43b86d9ed"
      },
      "source": [
        "solution1('a1b2cde3~g45hi6')"
      ],
      "execution_count": 16,
      "outputs": [
        {
          "output_type": "execute_result",
          "data": {
            "application/vnd.google.colaboratory.intrinsic": {
              "type": "string"
            },
            "text/plain": [
              "'a1b2cde3~g45hi6'"
            ]
          },
          "metadata": {
            "tags": []
          },
          "execution_count": 16
        }
      ]
    },
    {
      "cell_type": "code",
      "metadata": {
        "id": "b3KxiNcWiaRk",
        "colab_type": "code",
        "colab": {}
      },
      "source": [
        ""
      ],
      "execution_count": null,
      "outputs": []
    }
  ]
}