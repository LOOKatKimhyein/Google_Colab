{
  "nbformat": 4,
  "nbformat_minor": 0,
  "metadata": {
    "colab": {
      "name": "뒤쪽 0의 갯수 구하기(lv.2).ipynb",
      "provenance": [],
      "collapsed_sections": [],
      "authorship_tag": "ABX9TyNhXkFRE3eg0XjzNJ1jVZm4",
      "include_colab_link": true
    },
    "kernelspec": {
      "name": "python3",
      "display_name": "Python 3"
    }
  },
  "cells": [
    {
      "cell_type": "markdown",
      "metadata": {
        "id": "view-in-github",
        "colab_type": "text"
      },
      "source": [
        "<a href=\"https://colab.research.google.com/github/LOOKatKimhyein/Google_Colab/blob/master/%EB%92%A4%EC%AA%BD_0%EC%9D%98_%EA%B0%AF%EC%88%98_%EA%B5%AC%ED%95%98%EA%B8%B0(lv_2).ipynb\" target=\"_parent\"><img src=\"https://colab.research.google.com/assets/colab-badge.svg\" alt=\"Open In Colab\"/></a>"
      ]
    },
    {
      "cell_type": "code",
      "metadata": {
        "id": "L-Iyqe8M-eq1",
        "colab_type": "code",
        "colab": {}
      },
      "source": [
        "from functools import reduce"
      ],
      "execution_count": 1,
      "outputs": []
    },
    {
      "cell_type": "markdown",
      "metadata": {
        "id": "LUmJqPBT-lon",
        "colab_type": "text"
      },
      "source": [
        "**팩토리얼 구하는 방법(재귀함수, reduce)**\n",
        "\n"
      ]
    },
    {
      "cell_type": "code",
      "metadata": {
        "id": "OMAHfywn-zFi",
        "colab_type": "code",
        "colab": {}
      },
      "source": [
        "#1) 재귀함수\n",
        "def pac(num):\n",
        "  if num>1 :  return num * pac(num-1)\n",
        "  else : return 1"
      ],
      "execution_count": 5,
      "outputs": []
    },
    {
      "cell_type": "code",
      "metadata": {
        "id": "x_33QmKZ-8wf",
        "colab_type": "code",
        "colab": {
          "base_uri": "https://localhost:8080/",
          "height": 35
        },
        "outputId": "d02e3372-9af1-49af-e1d4-ab99b23961ba"
      },
      "source": [
        "pac(5)"
      ],
      "execution_count": 4,
      "outputs": [
        {
          "output_type": "execute_result",
          "data": {
            "text/plain": [
              "120"
            ]
          },
          "metadata": {
            "tags": []
          },
          "execution_count": 4
        }
      ]
    },
    {
      "cell_type": "code",
      "metadata": {
        "id": "bzAHQOas-_8p",
        "colab_type": "code",
        "colab": {
          "base_uri": "https://localhost:8080/",
          "height": 35
        },
        "outputId": "ba068198-e719-49b0-ff6e-fc65a76fb56e"
      },
      "source": [
        "#2) reduce 함수이용(functools 패키지)\n",
        "# 리스트 원소들간의 동일한 연산을 해줄 때 이용한다\n",
        "# 예컨대, 리스트 원소들 간의 곱/합\n",
        "num = 5\n",
        "reduce(lambda x,y : x*y, range(1,num + 1))"
      ],
      "execution_count": 6,
      "outputs": [
        {
          "output_type": "execute_result",
          "data": {
            "text/plain": [
              "120"
            ]
          },
          "metadata": {
            "tags": []
          },
          "execution_count": 6
        }
      ]
    },
    {
      "cell_type": "markdown",
      "metadata": {
        "id": "PqhjU_We_azs",
        "colab_type": "text"
      },
      "source": [
        "# **뒤쪽 0의 갯수 구하기**\n",
        "- reduce 함수 이용\n"
      ]
    },
    {
      "cell_type": "code",
      "metadata": {
        "id": "wsJf3uo1_ZH_",
        "colab_type": "code",
        "colab": {}
      },
      "source": [
        "def solution(num):\n",
        "  str_num_pac = str(reduce(lambda x,y : x*y, range(1,num+1)))\n",
        "  return len(str_num_pac)- len(str_num_pac.rstrip('0'))"
      ],
      "execution_count": 9,
      "outputs": []
    },
    {
      "cell_type": "code",
      "metadata": {
        "id": "miWcJL8f_9nZ",
        "colab_type": "code",
        "colab": {
          "base_uri": "https://localhost:8080/",
          "height": 35
        },
        "outputId": "62d3471c-317e-4699-d2e2-1ea82d953982"
      },
      "source": [
        "pac(12)"
      ],
      "execution_count": 13,
      "outputs": [
        {
          "output_type": "execute_result",
          "data": {
            "text/plain": [
              "479001600"
            ]
          },
          "metadata": {
            "tags": []
          },
          "execution_count": 13
        }
      ]
    },
    {
      "cell_type": "code",
      "metadata": {
        "id": "8BpGBWY1_xRD",
        "colab_type": "code",
        "colab": {
          "base_uri": "https://localhost:8080/",
          "height": 35
        },
        "outputId": "0ac206c1-4f89-41c0-bebe-8b9bb8c105aa"
      },
      "source": [
        "solution(12)"
      ],
      "execution_count": 12,
      "outputs": [
        {
          "output_type": "execute_result",
          "data": {
            "text/plain": [
              "2"
            ]
          },
          "metadata": {
            "tags": []
          },
          "execution_count": 12
        }
      ]
    },
    {
      "cell_type": "code",
      "metadata": {
        "id": "SlYZNWWnAAxv",
        "colab_type": "code",
        "colab": {
          "base_uri": "https://localhost:8080/",
          "height": 35
        },
        "outputId": "5b140443-dec1-4fa1-9a1e-354c879114e5"
      },
      "source": [
        "pac(25)"
      ],
      "execution_count": 14,
      "outputs": [
        {
          "output_type": "execute_result",
          "data": {
            "text/plain": [
              "15511210043330985984000000"
            ]
          },
          "metadata": {
            "tags": []
          },
          "execution_count": 14
        }
      ]
    },
    {
      "cell_type": "code",
      "metadata": {
        "id": "6fHyxs39_yaZ",
        "colab_type": "code",
        "colab": {
          "base_uri": "https://localhost:8080/",
          "height": 35
        },
        "outputId": "7a9267c2-6e77-4cf9-fef6-dd903cb69d3c"
      },
      "source": [
        "solution(25)"
      ],
      "execution_count": 11,
      "outputs": [
        {
          "output_type": "execute_result",
          "data": {
            "text/plain": [
              "6"
            ]
          },
          "metadata": {
            "tags": []
          },
          "execution_count": 11
        }
      ]
    }
  ]
}