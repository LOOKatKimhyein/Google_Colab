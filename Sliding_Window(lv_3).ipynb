{
  "nbformat": 4,
  "nbformat_minor": 0,
  "metadata": {
    "colab": {
      "name": "Sliding Window(lv.3).ipynb",
      "provenance": [],
      "collapsed_sections": [],
      "authorship_tag": "ABX9TyN8+xK2jWfeWZldRtwQLrHB",
      "include_colab_link": true
    },
    "kernelspec": {
      "name": "python3",
      "display_name": "Python 3"
    }
  },
  "cells": [
    {
      "cell_type": "markdown",
      "metadata": {
        "id": "view-in-github",
        "colab_type": "text"
      },
      "source": [
        "<a href=\"https://colab.research.google.com/github/LOOKatKimhyein/Google_Colab/blob/master/Sliding_Window(lv_3).ipynb\" target=\"_parent\"><img src=\"https://colab.research.google.com/assets/colab-badge.svg\" alt=\"Open In Colab\"/></a>"
      ]
    },
    {
      "cell_type": "code",
      "metadata": {
        "id": "XDd0dGxDOW5z",
        "colab_type": "code",
        "colab": {}
      },
      "source": [
        "import numpy as np"
      ],
      "execution_count": 10,
      "outputs": []
    },
    {
      "cell_type": "markdown",
      "metadata": {
        "id": "1xDsdHHzLvzN",
        "colab_type": "text"
      },
      "source": [
        "여기 배열이 하나 있습니다.    \n",
        "\n",
        " 이 배열의 크기는 n으로 106을 넘지 않습니다. 그리고 이 배열의 왼쪽 끝에서 오른쪽 끝으로 움직이고 있는 슬라이딩 윈도우가 있습니다.  \n",
        "   \n",
        "\n",
        "  이 윈도우의 길이는 k입니다. 여러분은 윈도우 안에 보이는 k개의 수만을 볼 수 있습니다.  \n",
        "   윈도우는 한 번에 한 칸씩 오른쪽으로 움직입니다.    \n",
        "\n",
        " 다음은 예제입니다.\n",
        "  \n",
        "\n",
        "# example\n",
        "\n",
        "슬라이딩 윈도우가 각 위치에 있을 때 보이는 최대값과 최소값이 무엇인지 구하는 것이 여러분에게 주어진 문제입니다.\n",
        "\n",
        "**입력**\n",
        "\n",
        "입력은 두 개의 줄로 이루어져 있습니다.   \n",
        "첫 번째 줄은 배열의 길이와 슬라이딩 윈도우의 길이를 나타내는 두 개의 정수n과 k를 담고 있습니다.   \n",
        "다음 줄에 배열의 내용을 나타내는 n개의 정수가 담겨 있습니다.\n",
        "\n",
        "**출력**\n",
        "\n",
        "출력은 두 개의 줄을 담고 있어야 합니다.  \n",
        " 첫 번째 줄은 윈도우가 왼쪽에서 오른쪽으로 움직일 때마다 윈도우에 보이는 최소값을 나타냅니다.  \n",
        "  두번째 줄은 최대값입니다."
      ]
    },
    {
      "cell_type": "code",
      "metadata": {
        "id": "-ZqmNdy0Lj4P",
        "colab_type": "code",
        "colab": {}
      },
      "source": [
        "n = 8\n",
        "k = 3\n",
        "words = [1 ,3 ,-1 ,-3 ,5 ,3 ,6, 7]"
      ],
      "execution_count": 1,
      "outputs": []
    },
    {
      "cell_type": "code",
      "metadata": {
        "id": "itMyJw-MNbJg",
        "colab_type": "code",
        "colab": {
          "base_uri": "https://localhost:8080/",
          "height": 35
        },
        "outputId": "9d5139c5-1032-4274-8ca6-6a2da7b16bfa"
      },
      "source": [
        "min_val = []\n",
        "max_val = []\n",
        "for i in range(0,n-2):\n",
        "  min_val.append(min(words[i:i+k]))\n",
        "  max_val.append(max(words[i:i+k]))\n",
        "print(min_val, max_val)"
      ],
      "execution_count": 3,
      "outputs": [
        {
          "output_type": "stream",
          "text": [
            "[-1, -3, -3, -3, 3, 3] [3, 3, 5, 5, 6, 7]\n"
          ],
          "name": "stdout"
        }
      ]
    },
    {
      "cell_type": "markdown",
      "metadata": {
        "id": "634aj5TkQFDb",
        "colab_type": "text"
      },
      "source": [
        "***최종 답안***\n"
      ]
    },
    {
      "cell_type": "code",
      "metadata": {
        "id": "WYS_XCp3NbV4",
        "colab_type": "code",
        "colab": {}
      },
      "source": [
        "def solution(n,k,words):\n",
        "  mn = [min(words[i:i+k]) for i in range(0,n-2) ]\n",
        "  mx = [max(words[i:i+k]) for i in range(0,n-2) ]\n",
        "  return np.array((mn,mx))    # array는 두 개의 줄로 출력하라는 요구,,에 맞춰,,,"
      ],
      "execution_count": 14,
      "outputs": []
    },
    {
      "cell_type": "code",
      "metadata": {
        "id": "EP_6QdvuNbRb",
        "colab_type": "code",
        "colab": {
          "base_uri": "https://localhost:8080/",
          "height": 53
        },
        "outputId": "ea69b4d2-f9f4-4fb2-d183-3d1382f80f33"
      },
      "source": [
        "solution(8,3,[1 ,3 ,-1 ,-3 ,5 ,3 ,6, 7])"
      ],
      "execution_count": 15,
      "outputs": [
        {
          "output_type": "execute_result",
          "data": {
            "text/plain": [
              "array([[-1, -3, -3, -3,  3,  3],\n",
              "       [ 3,  3,  5,  5,  6,  7]])"
            ]
          },
          "metadata": {
            "tags": []
          },
          "execution_count": 15
        }
      ]
    }
  ]
}