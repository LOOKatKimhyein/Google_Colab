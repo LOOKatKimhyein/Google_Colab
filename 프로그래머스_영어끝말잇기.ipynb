{
  "nbformat": 4,
  "nbformat_minor": 0,
  "metadata": {
    "colab": {
      "name": "프로그래머스_영어끝말잇기.ipynb",
      "provenance": [],
      "collapsed_sections": [],
      "authorship_tag": "ABX9TyOYHjkGwEaBDguSExtey4lD",
      "include_colab_link": true
    },
    "kernelspec": {
      "name": "python3",
      "display_name": "Python 3"
    }
  },
  "cells": [
    {
      "cell_type": "markdown",
      "metadata": {
        "id": "view-in-github",
        "colab_type": "text"
      },
      "source": [
        "<a href=\"https://colab.research.google.com/github/LOOKatKimhyein/Google_Colab/blob/master/%ED%94%84%EB%A1%9C%EA%B7%B8%EB%9E%98%EB%A8%B8%EC%8A%A4_%EC%98%81%EC%96%B4%EB%81%9D%EB%A7%90%EC%9E%87%EA%B8%B0.ipynb\" target=\"_parent\"><img src=\"https://colab.research.google.com/assets/colab-badge.svg\" alt=\"Open In Colab\"/></a>"
      ]
    },
    {
      "cell_type": "code",
      "metadata": {
        "id": "WoxYqqSKa5Bq",
        "colab_type": "code",
        "colab": {}
      },
      "source": [
        "import math\n",
        "import numpy as np"
      ],
      "execution_count": 0,
      "outputs": []
    },
    {
      "cell_type": "code",
      "metadata": {
        "id": "eOgAZoS1bGCC",
        "colab_type": "code",
        "colab": {}
      },
      "source": [
        "t = ['hello', 'one', 'even', 'never', 'now', 'world', 'draw']\n",
        "n = 2"
      ],
      "execution_count": 0,
      "outputs": []
    },
    {
      "cell_type": "code",
      "metadata": {
        "id": "uzPZROcXa-d9",
        "colab_type": "code",
        "colab": {}
      },
      "source": [
        "lis = list(zip(t,list(range(1,n+1))*len(t)))"
      ],
      "execution_count": 0,
      "outputs": []
    },
    {
      "cell_type": "code",
      "metadata": {
        "id": "AOpQk64-cRMZ",
        "colab_type": "code",
        "colab": {
          "base_uri": "https://localhost:8080/",
          "height": 143
        },
        "outputId": "a9300afb-c815-496d-8377-4678c6a18a32"
      },
      "source": [
        "lis"
      ],
      "execution_count": 24,
      "outputs": [
        {
          "output_type": "execute_result",
          "data": {
            "text/plain": [
              "[('hello', 1),\n",
              " ('one', 2),\n",
              " ('even', 1),\n",
              " ('never', 2),\n",
              " ('now', 1),\n",
              " ('world', 2),\n",
              " ('draw', 1)]"
            ]
          },
          "metadata": {
            "tags": []
          },
          "execution_count": 24
        }
      ]
    },
    {
      "cell_type": "code",
      "metadata": {
        "id": "BtI5gi6Kc1Bd",
        "colab_type": "code",
        "colab": {
          "base_uri": "https://localhost:8080/",
          "height": 35
        },
        "outputId": "631fb2b2-4fa4-4205-8c80-c2a22559c787"
      },
      "source": [
        "len(lis)"
      ],
      "execution_count": 27,
      "outputs": [
        {
          "output_type": "execute_result",
          "data": {
            "text/plain": [
              "7"
            ]
          },
          "metadata": {
            "tags": []
          },
          "execution_count": 27
        }
      ]
    },
    {
      "cell_type": "code",
      "metadata": {
        "id": "wS3UDmbNcRTr",
        "colab_type": "code",
        "colab": {}
      },
      "source": [
        "def solution(n,t):\n",
        "  lis = list(zip(t,list(range(1,n+1))*len(t)))\n",
        "  for i in range(1,len(lis)):\n",
        "    if t[i] in t[:i] or lis[i][0][1] != lis[i-1][0][-1]:\n",
        "      wrong_p = lis[i][1]\n",
        "      wrong_turn = math.ceil(i/n)\n",
        "  print(wrong_p,wrong_turn )"
      ],
      "execution_count": 0,
      "outputs": []
    },
    {
      "cell_type": "code",
      "metadata": {
        "id": "M_Geu-a9cROy",
        "colab_type": "code",
        "colab": {
          "base_uri": "https://localhost:8080/",
          "height": 35
        },
        "outputId": "9549a141-44a0-475e-b29c-e0f6aee19925"
      },
      "source": [
        "solution(2, ['hello', 'one', 'even', 'never', 'now', 'world', 'draw'])"
      ],
      "execution_count": 46,
      "outputs": [
        {
          "output_type": "stream",
          "text": [
            "1 3\n"
          ],
          "name": "stdout"
        }
      ]
    },
    {
      "cell_type": "code",
      "metadata": {
        "id": "YIhMoFmUfCGh",
        "colab_type": "code",
        "colab": {
          "base_uri": "https://localhost:8080/",
          "height": 35
        },
        "outputId": "28fa490a-0b33-4842-e7c9-96a3a379c7e9"
      },
      "source": [
        "solution(3, ['tank', 'kick', 'know', 'wheel', 'land', 'dream', 'mother', 'robot', 'tank'])"
      ],
      "execution_count": 47,
      "outputs": [
        {
          "output_type": "stream",
          "text": [
            "3 3\n"
          ],
          "name": "stdout"
        }
      ]
    },
    {
      "cell_type": "markdown",
      "metadata": {
        "id": "Md_MunT5fK83",
        "colab_type": "text"
      },
      "source": [
        "# [문제풀 때 유의할 점]\n",
        "<br> \n",
        "1. 조건이 두개라면 두개의 for문을 만들되,  \n",
        "조건만 바뀔 수 있도록 index 맞추기\n",
        "\n",
        "**(idea필요)**\n",
        "\n",
        "2. 효율성을 위해 반복문은 무조건 1개, 조건문 최소화\n",
        "3. lambda활용하기\n",
        "\n"
      ]
    }
  ]
}