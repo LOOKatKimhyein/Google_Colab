{
  "nbformat": 4,
  "nbformat_minor": 0,
  "metadata": {
    "colab": {
      "name": "Josephus Problem(lv.2)",
      "provenance": [],
      "collapsed_sections": [],
      "authorship_tag": "ABX9TyMD7jIip5l/5ccjtOD22S6O",
      "include_colab_link": true
    },
    "kernelspec": {
      "name": "python3",
      "display_name": "Python 3"
    }
  },
  "cells": [
    {
      "cell_type": "markdown",
      "metadata": {
        "id": "view-in-github",
        "colab_type": "text"
      },
      "source": [
        "<a href=\"https://colab.research.google.com/github/LOOKatKimhyein/Google_Colab/blob/master/Josephus_Problem(lv_2).ipynb\" target=\"_parent\"><img src=\"https://colab.research.google.com/assets/colab-badge.svg\" alt=\"Open In Colab\"/></a>"
      ]
    },
    {
      "cell_type": "markdown",
      "metadata": {
        "id": "MbqYN9Lncjhw",
        "colab_type": "text"
      },
      "source": [
        "출처 : http://www.codeabbey.com/index/task_view/josephus-problem\n",
        "\n",
        "약 2,000년 전에는 전쟁에서 병사들이 적들에 의해 동굴에 갇히게 되는 경우가 종종 있었다고 한다.\n",
        "\n",
        "그들은 포로가 되는것을 방지하기 위해 동그랗게 서서 마지막 한 사람이 남을 때 까지 순서대로 돌아가며 세번째에 해당되는 사람을 죽여 나갔다고 한다.\n",
        "\n",
        "마지막으로 남게되는 사람은 자살하기로 약속되어 있었지만 보통 적들에게 항복을 하는 경우가 많았다고 한다.\n",
        "\n",
        "여러분이 풀어야 할 문제는 총 인원수(N)와 간격(K)이 주어졌을 때 가장 마지막에 살아남는 병사의 위치(the safe position)를 알아내는 것이다.\n",
        "\n",
        "예를 들어 병사수가 총 10명이고 돌아가며 세번째에 해당되는 병사를 제거하는 경우는 다음과 같다:\n",
        "\n",
        "N = 10, K = 3\n",
        "\n",
        "위의 경우 다음과 같은 순서로 병사들이 제거된다. (괄호는 제거되는 병사를 의미한다)\n",
        "\n",
        "1st round: 1 2 (3) 4 5 (6) 7 8 (9) 10\n",
        "2nd round: 1 (2) 4 5 (7) 8 10\n",
        "3rd round: (1) 4 5 (8) 10\n",
        "4th round: 4 (5) 10\n",
        "5th round: 4 (10)\n",
        "위 예에서 끝가지 살아남는 병사는 4, 즉 4번째 병사이다.\n",
        "\n",
        "입력 데이터는 총 병사수 N과 간격 K이다.\n",
        "출력 데이터는 마지막까지 살아남는 병사의 위치이다.\n",
        "\n",
        "(단, 최초 시작은 1번 병사부터이다.)\n",
        "\n",
        "입출력 예는 다음과 같다:"
      ]
    },
    {
      "cell_type": "code",
      "metadata": {
        "id": "pA5BJTmAcZ3i",
        "colab_type": "code",
        "colab": {}
      },
      "source": [
        "import numpy as np\n",
        "import pandas as pd"
      ],
      "execution_count": 0,
      "outputs": []
    },
    {
      "cell_type": "markdown",
      "metadata": {
        "id": "-okd4gpPcjED",
        "colab_type": "text"
      },
      "source": [
        "[풀이 과정]\n",
        "1. round마다 3의 배수 해당하는 사람을 삭제\n",
        "2. 마지막으로 삭제된 숫자 다음사람을 첫번째 자리로 재정렬\n",
        "3. 마지막 두 명이 남은 경우, 첫번째 자리사람이 3번째이므로 첫번째 자리 사람 삭제\n"
      ]
    },
    {
      "cell_type": "code",
      "metadata": {
        "id": "C1mittlAgG4z",
        "colab_type": "code",
        "colab": {}
      },
      "source": [
        "def func_die(a_len,k):\n",
        "  a = list(range(1,a_len+1))\n",
        "  while len(a) > 1:\n",
        "    if len(a) > 2:\n",
        "      del_idx = []\n",
        "      for idx, val in enumerate(a):\n",
        "        if (idx+1)%k == 0:\n",
        "          del_idx.append(idx)\n",
        "      tmp_idx = -(len(a)-(max(del_idx))) +1\n",
        "      a = np.delete(a, del_idx)\n",
        "      a = list(a[tmp_idx:]) + list(a[:tmp_idx]) \n",
        "    elif len(a) == 2:\n",
        "      a = np.delete(a,0)\n",
        "\n",
        "  print(a_len, '명 중', k,'의 배수로 die')\n",
        "  print('마지막 남은 사람은..' ,a)"
      ],
      "execution_count": 0,
      "outputs": []
    },
    {
      "cell_type": "code",
      "metadata": {
        "id": "7O2QKqjihQee",
        "colab_type": "code",
        "colab": {
          "base_uri": "https://localhost:8080/",
          "height": 53
        },
        "outputId": "4882a607-beef-4341-c193-708abdaaf817"
      },
      "source": [
        "func_die(10,3)"
      ],
      "execution_count": 16,
      "outputs": [
        {
          "output_type": "stream",
          "text": [
            "10 명 중 3 의 배수로 die\n",
            "마지막 남은 사람은.. [4]\n"
          ],
          "name": "stdout"
        }
      ]
    },
    {
      "cell_type": "code",
      "metadata": {
        "id": "_b_pFKelhSzN",
        "colab_type": "code",
        "colab": {}
      },
      "source": [
        ""
      ],
      "execution_count": 0,
      "outputs": []
    }
  ]
}